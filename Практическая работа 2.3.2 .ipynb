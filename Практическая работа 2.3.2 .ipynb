{
 "cells": [
  {
   "cell_type": "code",
   "execution_count": 136,
   "id": "7e1f73fd",
   "metadata": {},
   "outputs": [],
   "source": [
    "import numpy as np\n",
    "import pandas as pd\n",
    "import seaborn as sns\n",
    "import scipy.stats as stats\n",
    "import matplotlib.pyplot as plt"
   ]
  },
  {
   "cell_type": "code",
   "execution_count": 137,
   "id": "5f6f215a",
   "metadata": {},
   "outputs": [],
   "source": [
    "df = pd.read_csv('ad.csv')"
   ]
  },
  {
   "cell_type": "markdown",
   "id": "5859e530",
   "metadata": {},
   "source": [
    "## 1. Контекст задачи"
   ]
  },
  {
   "cell_type": "markdown",
   "id": "325f7f51",
   "metadata": {},
   "source": [
    "Агенство недвижимости проводит рекламную кампанию с привлечением инфлюенсеров А и В. Кампания будет считаться успешной при увеличении конверсии на 10% от старта рекламной компании."
   ]
  },
  {
   "cell_type": "markdown",
   "id": "0c2fc89a",
   "metadata": {},
   "source": [
    "## 2. Формулировка гипотезы"
   ]
  },
  {
   "cell_type": "markdown",
   "id": "356afae5",
   "metadata": {},
   "source": [
    "H0: p(a) = p(b)\n",
    "\n",
    "H1: p(a) ≠ p(b)\n",
    "\n",
    "где p(a) и p(b) коэффициент конверсии инфлюенсеров А и В соответственно. \n",
    "\n",
    "Уровень доверия 95%, то есть α =0,05"
   ]
  },
  {
   "cell_type": "markdown",
   "id": "c95eeb27",
   "metadata": {},
   "source": [
    "## 3. Набор данных"
   ]
  },
  {
   "cell_type": "code",
   "execution_count": 11,
   "id": "c2b32032",
   "metadata": {},
   "outputs": [],
   "source": [
    "df = pd.read_csv('ad.csv')"
   ]
  },
  {
   "cell_type": "code",
   "execution_count": 13,
   "id": "a79f5230",
   "metadata": {},
   "outputs": [
    {
     "data": {
      "text/html": [
       "<div>\n",
       "<style scoped>\n",
       "    .dataframe tbody tr th:only-of-type {\n",
       "        vertical-align: middle;\n",
       "    }\n",
       "\n",
       "    .dataframe tbody tr th {\n",
       "        vertical-align: top;\n",
       "    }\n",
       "\n",
       "    .dataframe thead th {\n",
       "        text-align: right;\n",
       "    }\n",
       "</style>\n",
       "<table border=\"1\" class=\"dataframe\">\n",
       "  <thead>\n",
       "    <tr style=\"text-align: right;\">\n",
       "      <th></th>\n",
       "      <th>ad_id</th>\n",
       "      <th>action</th>\n",
       "    </tr>\n",
       "  </thead>\n",
       "  <tbody>\n",
       "    <tr>\n",
       "      <th>0</th>\n",
       "      <td>B</td>\n",
       "      <td>1</td>\n",
       "    </tr>\n",
       "    <tr>\n",
       "      <th>1</th>\n",
       "      <td>B</td>\n",
       "      <td>1</td>\n",
       "    </tr>\n",
       "    <tr>\n",
       "      <th>2</th>\n",
       "      <td>A</td>\n",
       "      <td>0</td>\n",
       "    </tr>\n",
       "    <tr>\n",
       "      <th>3</th>\n",
       "      <td>B</td>\n",
       "      <td>0</td>\n",
       "    </tr>\n",
       "    <tr>\n",
       "      <th>4</th>\n",
       "      <td>A</td>\n",
       "      <td>1</td>\n",
       "    </tr>\n",
       "  </tbody>\n",
       "</table>\n",
       "</div>"
      ],
      "text/plain": [
       "  ad_id  action\n",
       "0     B       1\n",
       "1     B       1\n",
       "2     A       0\n",
       "3     B       0\n",
       "4     A       1"
      ]
     },
     "execution_count": 13,
     "metadata": {},
     "output_type": "execute_result"
    }
   ],
   "source": [
    "df.head()"
   ]
  },
  {
   "cell_type": "markdown",
   "id": "d2cc98f3",
   "metadata": {},
   "source": [
    "## 4. Статистика набора данных"
   ]
  },
  {
   "cell_type": "code",
   "execution_count": 20,
   "id": "19abb76d",
   "metadata": {},
   "outputs": [],
   "source": [
    "lambda_def = lambda x: len(x)"
   ]
  },
  {
   "cell_type": "code",
   "execution_count": 45,
   "id": "650696e4",
   "metadata": {},
   "outputs": [],
   "source": [
    "sum_df['total_count'] = df.pivot_table(values='action', index = 'ad_id', aggfunc = lambda_def)\n",
    "sum_df['conversion_rate'] = df.pivot_table(values='action', index = 'ad_id')\n",
    "sum_df['sdp_p'] = df.pivot_table(values='action', index = 'ad_id', aggfunc = lambda x :np.std(x, ddof=0))\n",
    "sum_df['se_p'] = df.pivot_table(values='action', index = 'ad_id', aggfunc = lambda x : stats.sem(x, ddof=0))"
   ]
  },
  {
   "cell_type": "code",
   "execution_count": 46,
   "id": "096c2937",
   "metadata": {},
   "outputs": [
    {
     "data": {
      "text/html": [
       "<div>\n",
       "<style scoped>\n",
       "    .dataframe tbody tr th:only-of-type {\n",
       "        vertical-align: middle;\n",
       "    }\n",
       "\n",
       "    .dataframe tbody tr th {\n",
       "        vertical-align: top;\n",
       "    }\n",
       "\n",
       "    .dataframe thead th {\n",
       "        text-align: right;\n",
       "    }\n",
       "</style>\n",
       "<table border=\"1\" class=\"dataframe\">\n",
       "  <thead>\n",
       "    <tr style=\"text-align: right;\">\n",
       "      <th></th>\n",
       "      <th>action</th>\n",
       "      <th>total_count</th>\n",
       "      <th>conversion_rate</th>\n",
       "      <th>sdp_p</th>\n",
       "      <th>se_p</th>\n",
       "    </tr>\n",
       "    <tr>\n",
       "      <th>ad_id</th>\n",
       "      <th></th>\n",
       "      <th></th>\n",
       "      <th></th>\n",
       "      <th></th>\n",
       "      <th></th>\n",
       "    </tr>\n",
       "  </thead>\n",
       "  <tbody>\n",
       "    <tr>\n",
       "      <th>A</th>\n",
       "      <td>304</td>\n",
       "      <td>1000</td>\n",
       "      <td>0.304</td>\n",
       "      <td>0.459983</td>\n",
       "      <td>0.014546</td>\n",
       "    </tr>\n",
       "    <tr>\n",
       "      <th>B</th>\n",
       "      <td>372</td>\n",
       "      <td>1000</td>\n",
       "      <td>0.372</td>\n",
       "      <td>0.483338</td>\n",
       "      <td>0.015285</td>\n",
       "    </tr>\n",
       "  </tbody>\n",
       "</table>\n",
       "</div>"
      ],
      "text/plain": [
       "       action  total_count  conversion_rate     sdp_p      se_p\n",
       "ad_id                                                          \n",
       "A         304         1000            0.304  0.459983  0.014546\n",
       "B         372         1000            0.372  0.483338  0.015285"
      ]
     },
     "execution_count": 46,
     "metadata": {},
     "output_type": "execute_result"
    }
   ],
   "source": [
    "sum_df"
   ]
  },
  {
   "cell_type": "markdown",
   "id": "734031fe",
   "metadata": {},
   "source": [
    "### Визуализация промежуточных выводов"
   ]
  },
  {
   "cell_type": "code",
   "execution_count": 63,
   "id": "8d9dd7d2",
   "metadata": {},
   "outputs": [
    {
     "data": {
      "text/plain": [
       "Text(0, 0.5, 'Коэффициент конверсии')"
      ]
     },
     "execution_count": 63,
     "metadata": {},
     "output_type": "execute_result"
    },
    {
     "data": {
      "image/png": "[encoded data removed]",
      "text/plain": [
       "<Figure size 576x432 with 1 Axes>"
      ]
     },
     "metadata": {
      "needs_background": "light"
     },
     "output_type": "display_data"
    }
   ],
   "source": [
    "plt.figure(figsize=(8,6))\n",
    "sns.barplot(x=df['ad_id'],y=df['action'] )\n",
    "plt.title ('Коэффициент конверсии инфлюенсеров')\n",
    "plt.xlabel('Группа')\n",
    "plt.ylabel('Коэффициент конверсии')"
   ]
  },
  {
   "cell_type": "markdown",
   "id": "b48b98c1",
   "metadata": {},
   "source": [
    "## 5.Проверка гипотезы"
   ]
  },
  {
   "cell_type": "markdown",
   "id": "f4162dc6",
   "metadata": {},
   "source": [
    "### z - статистика"
   ]
  },
  {
   "cell_type": "code",
   "execution_count": 64,
   "id": "3759b6ba",
   "metadata": {},
   "outputs": [],
   "source": [
    "from statsmodels.stats.proportion import proportions_ztest, proportion_confint"
   ]
  },
  {
   "cell_type": "code",
   "execution_count": 65,
   "id": "a939b04a",
   "metadata": {},
   "outputs": [],
   "source": [
    "control_results = df[df['ad_id'] == 'A']['action']\n",
    "test_results = df[df['ad_id'] == 'B']['action']"
   ]
  },
  {
   "cell_type": "code",
   "execution_count": 69,
   "id": "d83069dd",
   "metadata": {},
   "outputs": [
    {
     "name": "stdout",
     "output_type": "stream",
     "text": [
      "z_statistic: -3.2144492244084213\n",
      "p-value: 0.0013069502732125403\n"
     ]
    }
   ],
   "source": [
    "nobs = [control_results.count(), test_results.count()]\n",
    "successes = [control_results.sum(), test_results.sum()]\n",
    "\n",
    "z_stat, pval = proportions_ztest (successes,nobs)\n",
    "print('z_statistic:',z_stat)\n",
    "print('p-value:',pval)\n",
    "\n"
   ]
  },
  {
   "cell_type": "code",
   "execution_count": 70,
   "id": "27a615b2",
   "metadata": {},
   "outputs": [],
   "source": [
    "alpha=0.05"
   ]
  },
  {
   "cell_type": "code",
   "execution_count": 71,
   "id": "3eedcf69",
   "metadata": {},
   "outputs": [
    {
     "name": "stdout",
     "output_type": "stream",
     "text": [
      "True\n"
     ]
    }
   ],
   "source": [
    "print(pval < alpha )"
   ]
  },
  {
   "cell_type": "markdown",
   "id": "27bd553e",
   "metadata": {},
   "source": [
    "Значение p-value < 0.05, что говорит о том, что рекламная кампания с инфлюенсером **В** наиболее эффективна."
   ]
  },
  {
   "cell_type": "code",
   "execution_count": 72,
   "id": "6e5b859b",
   "metadata": {},
   "outputs": [
    {
     "name": "stdout",
     "output_type": "stream",
     "text": [
      "Доверительный интервал для контрольной группы A: 0.2754905064387712  -  0.3325094935612288\n",
      "Доверительный интервал для тестовой группы B: 0.3420429266473629  -  0.4019570733526371\n"
     ]
    }
   ],
   "source": [
    "(lower_con, lower_test), (upper_con, upper_test) = proportion_confint(successes, nobs=nobs, alpha=alpha)\n",
    "\n",
    "print('Доверительный интервал для контрольной группы A:', lower_con, ' - ', upper_con)\n",
    "print('Доверительный интервал для тестовой группы B:', lower_test, ' - ', upper_test)"
   ]
  },
  {
   "cell_type": "markdown",
   "id": "f0818951",
   "metadata": {},
   "source": [
    "###  Хи - квадрат"
   ]
  },
  {
   "cell_type": "code",
   "execution_count": 108,
   "id": "ace3e95a",
   "metadata": {},
   "outputs": [],
   "source": [
    "import statsmodels.stats.proportion as proportion"
   ]
  },
  {
   "cell_type": "code",
   "execution_count": 114,
   "id": "bf6e1617",
   "metadata": {},
   "outputs": [],
   "source": [
    "chi2stat, pval, table= proportion.proportions_chisquare(successes,nobs)"
   ]
  },
  {
   "cell_type": "code",
   "execution_count": 118,
   "id": "215e79e6",
   "metadata": {},
   "outputs": [
    {
     "name": "stdout",
     "output_type": "stream",
     "text": [
      "chi2stat: -3.2144492244084213\n",
      "p-value: 0.0013069502732125406\n",
      "table: 0.0013069502732125406\n"
     ]
    }
   ],
   "source": [
    "print('chi2stat:', z_stat)\n",
    "print('p-value:', pval)\n",
    "print('table:', pval)"
   ]
  },
  {
   "cell_type": "code",
   "execution_count": 116,
   "id": "c5e7af6a",
   "metadata": {},
   "outputs": [],
   "source": [
    "alpha = 0.05"
   ]
  },
  {
   "cell_type": "code",
   "execution_count": 117,
   "id": "b09fc40a",
   "metadata": {},
   "outputs": [
    {
     "name": "stdout",
     "output_type": "stream",
     "text": [
      "True\n"
     ]
    }
   ],
   "source": [
    "print(pval < alpha)"
   ]
  },
  {
   "cell_type": "markdown",
   "id": "328e3455",
   "metadata": {},
   "source": [
    "Значение p-value < 0.05, что говорит о том, что рекламная кампания с инфлюенсером **В** наиболее эффективна."
   ]
  },
  {
   "cell_type": "markdown",
   "id": "42e8a532",
   "metadata": {},
   "source": [
    "### T - статистика"
   ]
  },
  {
   "cell_type": "code",
   "execution_count": null,
   "id": "4cc759c5",
   "metadata": {},
   "outputs": [],
   "source": []
  }
 ],
 "metadata": {
  "kernelspec": {
   "display_name": "Python 3 (ipykernel)",
   "language": "python",
   "name": "python3"
  },
  "language_info": {
   "codemirror_mode": {
    "name": "ipython",
    "version": 3
   },
   "file_extension": ".py",
   "mimetype": "text/x-python",
   "name": "python",
   "nbconvert_exporter": "python",
   "pygments_lexer": "ipython3",
   "version": "3.9.7"
  }
 },
 "nbformat": 4,
 "nbformat_minor": 5
}
